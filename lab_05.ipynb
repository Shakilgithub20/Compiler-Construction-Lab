{
  "nbformat": 4,
  "nbformat_minor": 0,
  "metadata": {
    "colab": {
      "name": "lab_05.ipynb",
      "provenance": [],
      "collapsed_sections": [],
      "include_colab_link": true
    },
    "kernelspec": {
      "name": "python3",
      "display_name": "Python 3"
    },
    "language_info": {
      "name": "python"
    }
  },
  "cells": [
    {
      "cell_type": "markdown",
      "metadata": {
        "id": "view-in-github",
        "colab_type": "text"
      },
      "source": [
        "<a href=\"https://colab.research.google.com/github/Shakilgithub20/Compiler-Construction-Lab/blob/main/lab_05.ipynb\" target=\"_parent\"><img src=\"https://colab.research.google.com/assets/colab-badge.svg\" alt=\"Open In Colab\"/></a>"
      ]
    },
    {
      "cell_type": "code",
      "execution_count": null,
      "metadata": {
        "colab": {
          "base_uri": "https://localhost:8080/"
        },
        "id": "TU7wsbVGm1OP",
        "outputId": "57315854-9379-440b-f9ec-062f8463ba07"
      },
      "outputs": [
        {
          "output_type": "stream",
          "name": "stdout",
          "text": [
            "False\n"
          ]
        }
      ],
      "source": [
        "string = \"abbba\"\n",
        "expression = \"ab*\"\n",
        "isSuccess = True\n",
        "\n",
        "if string[0] == \"a\":\n",
        "    for i in range(1, len(string)):\n",
        "        if string[i] != \"b\":\n",
        "            isSuccess = False\n",
        "            break\n",
        "else:\n",
        "    isSuccess = False\n",
        "\n",
        "print(isSuccess)"
      ]
    },
    {
      "cell_type": "markdown",
      "source": [
        "## Concate"
      ],
      "metadata": {
        "id": "8g6AzqjstMvn"
      }
    },
    {
      "cell_type": "code",
      "source": [
        "string = \"abbbbabb\"\n",
        "expression = \"a.b\"\n",
        "isSuccess = True\n",
        "\n",
        "if string[0] != \"a\" or string[-1] != \"b\":\n",
        "    isSuccess = False\n",
        "\n",
        "print(isSuccess)"
      ],
      "metadata": {
        "colab": {
          "base_uri": "https://localhost:8080/"
        },
        "id": "b3SKBt5I_EuC",
        "outputId": "e8fd15ca-280e-4997-eaa2-4be9c168d1c0"
      },
      "execution_count": null,
      "outputs": [
        {
          "output_type": "stream",
          "name": "stdout",
          "text": [
            "True\n"
          ]
        }
      ]
    },
    {
      "cell_type": "markdown",
      "source": [
        "(Union)"
      ],
      "metadata": {
        "id": "PRjoDK5x_NQi"
      }
    },
    {
      "cell_type": "code",
      "source": [
        "def check1st(str):\n",
        "    expression = \"a.b\"\n",
        "    isSuccess = True\n",
        "\n",
        "    if str[0] != \"a\" or str[-1] != \"b\":\n",
        "        isSuccess = False\n",
        "\n",
        "    return isSuccess\n",
        "\n",
        "\n",
        "def check2nd(str):\n",
        "    expression = \"ab*\"\n",
        "    isSuccess = True\n",
        "\n",
        "    if str[0] == \"a\":\n",
        "        for i in range(1, len(str)):\n",
        "            if str[i] != \"b\":\n",
        "                isSuccess = False\n",
        "                break\n",
        "    else:\n",
        "        isSuccess = False\n",
        "\n",
        "    return isSuccess\n",
        "\n",
        "\n",
        "# checking a.b U ab*\n",
        "\n",
        "print(\"Enter your desire string :::\")\n",
        "string = input()\n",
        "\n",
        "check1 = check1st(string)\n",
        "check2 = check2nd(string)\n",
        "\n",
        "print(\"\\n\")\n",
        "print(check1 or check2)\n"
      ],
      "metadata": {
        "colab": {
          "base_uri": "https://localhost:8080/"
        },
        "id": "SKDHDjQ8_W4i",
        "outputId": "7b42310e-3ea9-4730-967d-11e60e5a94b3"
      },
      "execution_count": null,
      "outputs": [
        {
          "output_type": "stream",
          "name": "stdout",
          "text": [
            "Enter your desire string :::\n",
            "abbccd\n",
            "\n",
            "\n",
            "False\n"
          ]
        }
      ]
    }
  ]
}