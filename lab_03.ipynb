{
  "nbformat": 4,
  "nbformat_minor": 0,
  "metadata": {
    "colab": {
      "name": "lab_03.ipynb",
      "provenance": [],
      "mount_file_id": "1OZmyI8l-5lkb4IHwLzIQILAmOU_yLdyu",
      "authorship_tag": "ABX9TyMexSLssupKm+SLURwwfa2J",
      "include_colab_link": true
    },
    "kernelspec": {
      "name": "python3",
      "display_name": "Python 3"
    },
    "language_info": {
      "name": "python"
    }
  },
  "cells": [
    {
      "cell_type": "markdown",
      "metadata": {
        "id": "view-in-github",
        "colab_type": "text"
      },
      "source": [
        "<a href=\"https://colab.research.google.com/github/Shakilgithub20/Compiler-Construction-Lab/blob/main/lab_03.ipynb\" target=\"_parent\"><img src=\"https://colab.research.google.com/assets/colab-badge.svg\" alt=\"Open In Colab\"/></a>"
      ]
    },
    {
      "cell_type": "markdown",
      "source": [
        "##Read C File"
      ],
      "metadata": {
        "id": "a2vdvuONNHOb"
      }
    },
    {
      "cell_type": "code",
      "execution_count": null,
      "metadata": {
        "id": "CH5k-TjYA2Ma"
      },
      "outputs": [],
      "source": [
        "file = open(\"/content/drive/MyDrive/Colab Notebooks/CCL/input.c\", \"r\")\n",
        "content = file.read()\n",
        "print(content)"
      ]
    },
    {
      "cell_type": "markdown",
      "source": [
        "##Remove Comments"
      ],
      "metadata": {
        "id": "oDFga_GnNNCJ"
      }
    },
    {
      "cell_type": "code",
      "source": [
        "import re\n",
        "def stripcomments(text):\n",
        "    return re.sub('//.*?\\n|/\\*.*?\\*/', '', text, flags=re.S)\n",
        "print(stripcomments( content ) )"
      ],
      "metadata": {
        "colab": {
          "base_uri": "https://localhost:8080/"
        },
        "id": "XzLEDqeSBnyU",
        "outputId": "a4bb55fe-1238-4d5c-ee60-9873da761d47"
      },
      "execution_count": null,
      "outputs": [
        {
          "output_type": "stream",
          "name": "stdout",
          "text": [
            "#include <stdio.h>\n",
            "\n",
            "int main() {\n",
            "\n",
            "  int n, i, flag = 0;\n",
            "  printf(\"Enter a positive integer: \");\n",
            "  scanf(\"%d\", &n);\n",
            "\n",
            "      if (n == 0 || n == 1)\n",
            "    flag = 1;\n",
            "\n",
            "  for (i = 2; i <= n / 2; ++i) {\n",
            "\n",
            "            if (n % i == 0) {\n",
            "      flag = 1;\n",
            "      break ;\n",
            "    }\n",
            "  }\n",
            "\n",
            "    if (flag == 0)\n",
            "    printf(\"%d is a prime number.\", n);\n",
            "  else\n",
            "    printf(\"%d is not a prime number.\", n);\n",
            "\n",
            "  return 0;\n",
            "}\n",
            "\n"
          ]
        }
      ]
    },
    {
      "cell_type": "markdown",
      "source": [
        "##Save Text File"
      ],
      "metadata": {
        "id": "PjbXBvmQNUIB"
      }
    },
    {
      "cell_type": "code",
      "source": [
        "f = open(\"/content/drive/MyDrive/Colab Notebooks/CCL/output.txt\", \"a\")\n",
        "f.write(stripcomments( content ))\n",
        "#open and read the file after the appending:\n",
        "f = open(\"/content/drive/MyDrive/Colab Notebooks/CCL/output.txt\", \"r\")\n",
        "print(f.read())"
      ],
      "metadata": {
        "colab": {
          "base_uri": "https://localhost:8080/"
        },
        "id": "zbGIub0bNR1J",
        "outputId": "883cd345-2849-422e-a290-e664bf4ce452"
      },
      "execution_count": null,
      "outputs": [
        {
          "output_type": "stream",
          "name": "stdout",
          "text": [
            "#include <stdio.h>\n",
            "\n",
            "int main() {\n",
            "\n",
            "  int n, i, flag = 0;\n",
            "  printf(\"Enter a positive integer: \");\n",
            "  scanf(\"%d\", &n);\n",
            "\n",
            "      if (n == 0 || n == 1)\n",
            "    flag = 1;\n",
            "\n",
            "  for (i = 2; i <= n / 2; ++i) {\n",
            "\n",
            "            if (n % i == 0) {\n",
            "      flag = 1;\n",
            "      break ;\n",
            "    }\n",
            "  }\n",
            "\n",
            "    if (flag == 0)\n",
            "    printf(\"%d is a prime number.\", n);\n",
            "  else\n",
            "    printf(\"%d is not a prime number.\", n);\n",
            "\n",
            "  return 0;\n",
            "}\n",
            "\n"
          ]
        }
      ]
    },
    {
      "cell_type": "markdown",
      "source": [
        "##Convert into Dictionary"
      ],
      "metadata": {
        "id": "cL1UPESOEIUG"
      }
    },
    {
      "cell_type": "code",
      "source": [
        "def Convert(list):\n",
        "    dct = {list[i]: 0 for i in range(0, len(list))}\n",
        "    return dct"
      ],
      "metadata": {
        "id": "V1ldUfcMMwa7"
      },
      "execution_count": null,
      "outputs": []
    },
    {
      "cell_type": "code",
      "source": [
        "keyword = ['int','case','char','const','countinue','deafult','do','break','else','enum','extern','float','for','goto','if','long','register','return','short','signed','sizeof','static','switch','typedef','union','unsigned','void','volatile','while']\n",
        "keyword = Convert(keyword) \n",
        "print(keyword)"
      ],
      "metadata": {
        "colab": {
          "base_uri": "https://localhost:8080/"
        },
        "id": "jUBa11AROH3K",
        "outputId": "e23c2d08-790c-4fe7-c5e9-3f5a3faf6158"
      },
      "execution_count": null,
      "outputs": [
        {
          "output_type": "stream",
          "name": "stdout",
          "text": [
            "{'int': 0, 'case': 0, 'char': 0, 'const': 0, 'countinue': 0, 'deafult': 0, 'do': 0, 'break': 0, 'else': 0, 'enum': 0, 'extern': 0, 'float': 0, 'for': 0, 'goto': 0, 'if': 0, 'long': 0, 'register': 0, 'return': 0, 'short': 0, 'signed': 0, 'sizeof': 0, 'static': 0, 'switch': 0, 'typedef': 0, 'union': 0, 'unsigned': 0, 'void': 0, 'volatile': 0, 'while': 0}\n"
          ]
        }
      ]
    },
    {
      "cell_type": "code",
      "source": [
        "file = open('/content/drive/MyDrive/Colab Notebooks/CCL/output.txt','r+')\n",
        "contents = file.read()"
      ],
      "metadata": {
        "id": "Mxq3XTSYOmm_"
      },
      "execution_count": null,
      "outputs": []
    },
    {
      "cell_type": "markdown",
      "source": [
        "##Split program "
      ],
      "metadata": {
        "id": "WaVPz9_jOr7g"
      }
    },
    {
      "cell_type": "code",
      "source": [
        "Code = contents.split() \n",
        "length = len(Code)     \n",
        "print(length)"
      ],
      "metadata": {
        "colab": {
          "base_uri": "https://localhost:8080/"
        },
        "id": "VWJrfM48M27K",
        "outputId": "a55e77c4-1522-4d1f-c330-e3bb981e23de"
      },
      "execution_count": null,
      "outputs": [
        {
          "output_type": "stream",
          "name": "stdout",
          "text": [
            "75\n"
          ]
        }
      ]
    },
    {
      "cell_type": "code",
      "source": [
        "print(Code)"
      ],
      "metadata": {
        "colab": {
          "base_uri": "https://localhost:8080/"
        },
        "id": "L-pwI5hHTy7k",
        "outputId": "3b93915e-d257-4afd-d0e3-3da3b4f906ba"
      },
      "execution_count": null,
      "outputs": [
        {
          "output_type": "stream",
          "name": "stdout",
          "text": [
            "['#include', '<stdio.h>', 'int', 'main()', '{', 'int', 'n,', 'i,', 'flag', '=', '0;', 'printf(\"Enter', 'a', 'positive', 'integer:', '\");', 'scanf(\"%d\",', '&n);', 'if', '(n', '==', '0', '||', 'n', '==', '1)', 'flag', '=', '1;', 'for', '(i', '=', '2;', 'i', '<=', 'n', '/', '2;', '++i)', '{', 'if', '(n', '%', 'i', '==', '0)', '{', 'flag', '=', '1;', 'break', ';', '}', '}', 'if', '(flag', '==', '0)', 'printf(\"%d', 'is', 'a', 'prime', 'number.\",', 'n);', 'else', 'printf(\"%d', 'is', 'not', 'a', 'prime', 'number.\",', 'n);', 'return', '0;', '}']\n"
          ]
        }
      ]
    },
    {
      "cell_type": "code",
      "source": [
        "total = 0\n",
        "for i in range(0,length):\n",
        "  if Code[i] in keyword:\n",
        "      keyword[Code[i]] += 1\n",
        "      total += 1\n",
        "for j, k in keyword.items():\n",
        "  if k>0:\n",
        "        print(j, ' :  ',k)\n",
        "print(\"Total Keyword:\", total)"
      ],
      "metadata": {
        "colab": {
          "base_uri": "https://localhost:8080/"
        },
        "id": "jITdm9L8M7iq",
        "outputId": "1fe90116-e90d-42ef-9f8e-de3a4fdd53fe"
      },
      "execution_count": null,
      "outputs": [
        {
          "output_type": "stream",
          "name": "stdout",
          "text": [
            "int  :   2\n",
            "break  :   1\n",
            "else  :   1\n",
            "for  :   1\n",
            "if  :   3\n",
            "return  :   1\n",
            "Total Keyword: 9\n"
          ]
        }
      ]
    },
    {
      "cell_type": "code",
      "source": [
        ""
      ],
      "metadata": {
        "id": "vd4uRb_hBoEH"
      },
      "execution_count": null,
      "outputs": []
    }
  ]
}