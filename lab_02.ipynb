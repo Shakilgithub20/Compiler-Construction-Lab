{
  "nbformat": 4,
  "nbformat_minor": 0,
  "metadata": {
    "colab": {
      "name": "ccl_02.ipynb",
      "provenance": []
    },
    "kernelspec": {
      "name": "python3",
      "display_name": "Python 3"
    },
    "language_info": {
      "name": "python"
    }
  },
  "cells": [
    {
      "cell_type": "markdown",
      "source": [
        "##Read C File"
      ],
      "metadata": {
        "id": "JZDHhO-2BYi4"
      }
    },
    {
      "cell_type": "code",
      "source": [
        "file = open(\"/content/drive/MyDrive/Colab Notebooks/CCL/ccl.c\", \"r\")\n",
        "content = file.read()\n",
        "print(content)"
      ],
      "metadata": {
        "id": "wUTiVoCy9W48",
        "colab": {
          "base_uri": "https://localhost:8080/"
        },
        "outputId": "33f0e972-81e9-4fce-b74d-a6f655f4c1a3"
      },
      "execution_count": 1,
      "outputs": [
        {
          "output_type": "stream",
          "name": "stdout",
          "text": [
            "#include <stdio.h>\n",
            "int main() {\n",
            "   // printf() displays the string inside quotation\n",
            "   // Single line Welcome user comment\n",
            "   printf(\"Hello World!\");\n",
            "   return 0;\n",
            "   /* Multi-line Welcome user comment\n",
            "    written to demonstrate comments\n",
            "    in C\n",
            "    printf(\"Hello, World!\");*/\n",
            "}\n",
            "\n"
          ]
        }
      ]
    },
    {
      "cell_type": "markdown",
      "source": [
        "##Remove Comments"
      ],
      "metadata": {
        "id": "CKhXK7f4BgG_"
      }
    },
    {
      "cell_type": "code",
      "source": [
        "import re\n",
        "def stripcomments(text):\n",
        "    return re.sub('//.*?\\n|/\\*.*?\\*/', '', text, flags=re.S)\n",
        "print(stripcomments( content ) )"
      ],
      "metadata": {
        "id": "JWR-hfla_03L",
        "colab": {
          "base_uri": "https://localhost:8080/"
        },
        "outputId": "7dc54e01-8dcb-4a03-8866-e4a78f99ab02"
      },
      "execution_count": 2,
      "outputs": [
        {
          "output_type": "stream",
          "name": "stdout",
          "text": [
            "#include <stdio.h>\n",
            "int main() {\n",
            "         printf(\"Hello World!\");\n",
            "   return 0;\n",
            "   \n",
            "}\n",
            "\n"
          ]
        }
      ]
    },
    {
      "cell_type": "markdown",
      "source": [
        "## Save Text File"
      ],
      "metadata": {
        "id": "6ZPBm1I8EJ7q"
      }
    },
    {
      "cell_type": "code",
      "source": [
        "f = open(\"/content/drive/MyDrive/Colab Notebooks/CCL/output.txt\", \"a\")\n",
        "f.write(stripcomments( content ))\n",
        "\n",
        "#open and read the file after the appending:\n",
        "f = open(\"/content/drive/MyDrive/Colab Notebooks/CCL/output.txt\", \"r\")\n",
        "print(f.read())"
      ],
      "metadata": {
        "id": "g9xPJxiyLdNY",
        "colab": {
          "base_uri": "https://localhost:8080/"
        },
        "outputId": "808ba954-48cd-4185-d1ff-c572eedd6e84"
      },
      "execution_count": 3,
      "outputs": [
        {
          "output_type": "stream",
          "name": "stdout",
          "text": [
            "#include <stdio.h>\n",
            "int main() {\n",
            "         printf(\"Hello World!\");\n",
            "   return 0;\n",
            "   \n",
            "}\n",
            "\n"
          ]
        }
      ]
    }
  ]
}