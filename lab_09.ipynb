{
  "nbformat": 4,
  "nbformat_minor": 0,
  "metadata": {
    "colab": {
      "name": "lab_09.ipynb",
      "provenance": [],
      "collapsed_sections": [],
      "include_colab_link": true
    },
    "kernelspec": {
      "name": "python3",
      "display_name": "Python 3"
    }
  },
  "cells": [
    {
      "cell_type": "markdown",
      "metadata": {
        "id": "view-in-github",
        "colab_type": "text"
      },
      "source": [
        "<a href=\"https://colab.research.google.com/github/Shakilgithub20/Compiler-Construction-Lab/blob/main/lab_09.ipynb\" target=\"_parent\"><img src=\"https://colab.research.google.com/assets/colab-badge.svg\" alt=\"Open In Colab\"/></a>"
      ]
    },
    {
      "cell_type": "code",
      "source": [
        "from collections import OrderedDict\n",
        "\n",
        "rules = [['S->EFGH'], \n",
        "         ['E->b'], \n",
        "         ['F->x'], \n",
        "         ['G->c|ε'], \n",
        "         ['H->d'], \n",
        "         ['E->yz']]\n",
        "\n",
        "# Ordered dictionary to maintain the order of saving in the dictionary\n",
        "# useful when doing the actual first finding in one pass.\n",
        "rules_dict = OrderedDict()  # Dictionary to store all the rules in the grammar\n",
        "firsts_dict = OrderedDict()  # Dictionary to store all the firsts\n",
        "follow_dict = OrderedDict()  # Dictionary that stores all follows\n",
        "\n",
        "firsts = []\n",
        "\n",
        "def non_term_appender(firsts, rules):\n",
        "    \"\"\"Adds the non terminals on the left to the firsts_dict\"\"\"\n",
        "    for rule in rules:\n",
        "        if rule[0][0] not in firsts:\n",
        "            firsts.append(rule[0][0])\n",
        "            firsts_dict[rule[0][0]] = []\n",
        "            follow_dict[rule[0][0]] = []\n",
        "            \n",
        "number_of_rules = len(rules)\n",
        "rule_count = first_count = 0\n",
        "non_term_appender(firsts, rules)\n",
        "for first in firsts:\n",
        "    rules_dict[first] = rules[rule_count][0][3:]\n",
        "    rule_count += 1\n",
        "\n",
        "for rule in rules:\n",
        "    if rule[0][3].islower():\n",
        "        firsts_dict[rule[0][0]].extend(rule[0][3])\n",
        "# TODO try and re implement one pass, as an else condition in the above loop.\n",
        "for rule in rules:\n",
        "    if rule[0][3].isupper():\n",
        "        firsts_dict[rule[0][0]].extend(firsts_dict[rule[0][3]])\n",
        "\n",
        "rules_keys = list(rules_dict.keys())\n",
        "key_count = len(rules_keys)\n",
        "\n",
        "for k in rules_dict:\n",
        "    tmp_rule_str = rules_dict[k]\n",
        "    if k == rules_keys[0]:\n",
        "        follow_dict[k].append('$')\n",
        "    for i in range(key_count):\n",
        "        if rules_keys[i] in tmp_rule_str:\n",
        "            # Follow finding for last non-terminal in the\n",
        "            tmp_rule_list = list(tmp_rule_str)\n",
        "            # stores the index non-terminal we are finding the follow for in a\n",
        "            # variable\n",
        "            current_non_term_index = tmp_rule_list.index(rules_keys[i])\n",
        "\n",
        "            if current_non_term_index == (len(tmp_rule_list) - 1):\n",
        "                # if the index of the current non-term is at last one, means that\n",
        "                # the follow for the current non-term will be the follow of the\n",
        "                # left-hand side\n",
        "                follow_dict[rules_keys[i]].extend(follow_dict[rules_keys[0]])\n",
        "            else:\n",
        "                # If not then the first of the next non-term from the current\n",
        "                # non-term becomes the follow of the current\n",
        "                follow_dict[rules_keys[i]].extend(\n",
        "                    firsts_dict[rules_keys[(i + 1) % key_count]])\n",
        "print(\"Rules\")\n",
        "print(\"==================================================================\")\n",
        "print(rules)\n",
        "print(\"\\n\\nFirsts Set\")\n",
        "print(\"======================\")\n",
        "for k in follow_dict:\n",
        "    print(\"firsts\", k,end=' -> ')\n",
        "    print(\"%s\" % firsts_dict[k])\n",
        "\n",
        "print(\"\\n\\nFollows Set\")\n",
        "print(\"==================\")\n",
        "for k in follow_dict:\n",
        "    print(\"Follows\", k,end=' -> ')\n",
        "    print(\"%s\" % follow_dict[k])\n"
      ],
      "metadata": {
        "colab": {
          "base_uri": "https://localhost:8080/"
        },
        "id": "fVivJ08P8nLh",
        "outputId": "2a542a35-0bd5-4fcc-ce94-0aab4c68288b"
      },
      "execution_count": null,
      "outputs": [
        {
          "output_type": "stream",
          "name": "stdout",
          "text": [
            "Rules\n",
            "==================================================================\n",
            "[['S->EFGH'], ['E->b'], ['F->x'], ['G->c|ε'], ['H->d'], ['E->yz']]\n",
            "\n",
            "\n",
            "Firsts Set\n",
            "======================\n",
            "firsts S -> ['b', 'y']\n",
            "firsts E -> ['b', 'y']\n",
            "firsts F -> ['x']\n",
            "firsts G -> ['c']\n",
            "firsts H -> ['d']\n",
            "\n",
            "\n",
            "Follows Set\n",
            "==================\n",
            "Follows S -> ['$']\n",
            "Follows E -> ['x']\n",
            "Follows F -> ['c']\n",
            "Follows G -> ['d']\n",
            "Follows H -> ['$']\n"
          ]
        }
      ]
    }
  ]
}